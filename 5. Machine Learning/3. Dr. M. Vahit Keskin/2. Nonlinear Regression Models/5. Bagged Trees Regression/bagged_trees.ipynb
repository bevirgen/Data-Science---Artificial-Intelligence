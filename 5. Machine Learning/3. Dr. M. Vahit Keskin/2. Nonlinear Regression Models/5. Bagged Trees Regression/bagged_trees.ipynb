{
 "cells": [
  {
   "cell_type": "markdown",
   "metadata": {},
   "source": [
    "## Bagged Trees Regression"
   ]
  },
  {
   "cell_type": "code",
   "execution_count": 47,
   "metadata": {},
   "outputs": [],
   "source": [
    "from sklearn.model_selection import train_test_split, GridSearchCV,cross_val_score\n",
    "from sklearn.tree import DecisionTreeRegressor, DecisionTreeClassifier\n",
    "from sklearn.metrics import mean_squared_error, r2_score\n",
    "from sklearn.preprocessing import scale, StandardScaler\n",
    "from sklearn.neighbors import KNeighborsRegressor\n",
    "from sklearn.neural_network import MLPRegressor\n",
    "from sklearn.ensemble import BaggingRegressor\n",
    "from sklearn import model_selection\n",
    "from skompiler import skompile\n",
    "from sklearn.svm import SVR\n",
    "import matplotlib.pyplot as plt\n",
    "import pandas as pd\n",
    "import numpy as np\n",
    "\n",
    "from warnings import filterwarnings\n",
    "filterwarnings('ignore')"
   ]
  },
  {
   "cell_type": "code",
   "execution_count": 48,
   "metadata": {},
   "outputs": [],
   "source": [
    "hit = pd.read_csv(\"Hitters.csv\")\n",
    "df = hit.copy()\n",
    "df = df.dropna()\n",
    "dms = pd.get_dummies(df[['League', 'Division', 'NewLeague']])\n",
    "y = df[\"Salary\"]\n",
    "X_ = df.drop(['Salary', 'League', 'Division', 'NewLeague'], axis=1).astype('float64')\n",
    "X = pd.concat([X_, dms[['League_N', 'Division_W', 'NewLeague_N']]], axis=1)\n",
    "X_train, X_test, y_train, y_test = train_test_split(X, y, \n",
    "                                                    test_size=0.25, \n",
    "                                                    random_state=42)\n"
   ]
  },
  {
   "cell_type": "code",
   "execution_count": 49,
   "metadata": {},
   "outputs": [
    {
     "data": {
      "text/plain": [
       "BaggingRegressor(base_estimator=None, bootstrap=True, bootstrap_features=True,\n",
       "                 max_features=1.0, max_samples=1.0, n_estimators=10,\n",
       "                 n_jobs=None, oob_score=False, random_state=None, verbose=0,\n",
       "                 warm_start=False)"
      ]
     },
     "execution_count": 49,
     "metadata": {},
     "output_type": "execute_result"
    }
   ],
   "source": [
    "bag_model = BaggingRegressor(bootstrap_features = True)\n",
    "bag_model.fit(X_train, y_train)"
   ]
  },
  {
   "cell_type": "code",
   "execution_count": 50,
   "metadata": {},
   "outputs": [
    {
     "data": {
      "text/plain": [
       "10"
      ]
     },
     "execution_count": 50,
     "metadata": {},
     "output_type": "execute_result"
    }
   ],
   "source": [
    "bag_model.n_estimators"
   ]
  },
  {
   "cell_type": "code",
   "execution_count": 51,
   "metadata": {},
   "outputs": [
    {
     "data": {
      "text/plain": [
       "[DecisionTreeRegressor(ccp_alpha=0.0, criterion='mse', max_depth=None,\n",
       "                       max_features=None, max_leaf_nodes=None,\n",
       "                       min_impurity_decrease=0.0, min_impurity_split=None,\n",
       "                       min_samples_leaf=1, min_samples_split=2,\n",
       "                       min_weight_fraction_leaf=0.0, presort='deprecated',\n",
       "                       random_state=1222928401, splitter='best'),\n",
       " DecisionTreeRegressor(ccp_alpha=0.0, criterion='mse', max_depth=None,\n",
       "                       max_features=None, max_leaf_nodes=None,\n",
       "                       min_impurity_decrease=0.0, min_impurity_split=None,\n",
       "                       min_samples_leaf=1, min_samples_split=2,\n",
       "                       min_weight_fraction_leaf=0.0, presort='deprecated',\n",
       "                       random_state=1126452366, splitter='best'),\n",
       " DecisionTreeRegressor(ccp_alpha=0.0, criterion='mse', max_depth=None,\n",
       "                       max_features=None, max_leaf_nodes=None,\n",
       "                       min_impurity_decrease=0.0, min_impurity_split=None,\n",
       "                       min_samples_leaf=1, min_samples_split=2,\n",
       "                       min_weight_fraction_leaf=0.0, presort='deprecated',\n",
       "                       random_state=1756183132, splitter='best'),\n",
       " DecisionTreeRegressor(ccp_alpha=0.0, criterion='mse', max_depth=None,\n",
       "                       max_features=None, max_leaf_nodes=None,\n",
       "                       min_impurity_decrease=0.0, min_impurity_split=None,\n",
       "                       min_samples_leaf=1, min_samples_split=2,\n",
       "                       min_weight_fraction_leaf=0.0, presort='deprecated',\n",
       "                       random_state=1453112856, splitter='best'),\n",
       " DecisionTreeRegressor(ccp_alpha=0.0, criterion='mse', max_depth=None,\n",
       "                       max_features=None, max_leaf_nodes=None,\n",
       "                       min_impurity_decrease=0.0, min_impurity_split=None,\n",
       "                       min_samples_leaf=1, min_samples_split=2,\n",
       "                       min_weight_fraction_leaf=0.0, presort='deprecated',\n",
       "                       random_state=362785863, splitter='best'),\n",
       " DecisionTreeRegressor(ccp_alpha=0.0, criterion='mse', max_depth=None,\n",
       "                       max_features=None, max_leaf_nodes=None,\n",
       "                       min_impurity_decrease=0.0, min_impurity_split=None,\n",
       "                       min_samples_leaf=1, min_samples_split=2,\n",
       "                       min_weight_fraction_leaf=0.0, presort='deprecated',\n",
       "                       random_state=1064527337, splitter='best'),\n",
       " DecisionTreeRegressor(ccp_alpha=0.0, criterion='mse', max_depth=None,\n",
       "                       max_features=None, max_leaf_nodes=None,\n",
       "                       min_impurity_decrease=0.0, min_impurity_split=None,\n",
       "                       min_samples_leaf=1, min_samples_split=2,\n",
       "                       min_weight_fraction_leaf=0.0, presort='deprecated',\n",
       "                       random_state=869390400, splitter='best'),\n",
       " DecisionTreeRegressor(ccp_alpha=0.0, criterion='mse', max_depth=None,\n",
       "                       max_features=None, max_leaf_nodes=None,\n",
       "                       min_impurity_decrease=0.0, min_impurity_split=None,\n",
       "                       min_samples_leaf=1, min_samples_split=2,\n",
       "                       min_weight_fraction_leaf=0.0, presort='deprecated',\n",
       "                       random_state=117300911, splitter='best'),\n",
       " DecisionTreeRegressor(ccp_alpha=0.0, criterion='mse', max_depth=None,\n",
       "                       max_features=None, max_leaf_nodes=None,\n",
       "                       min_impurity_decrease=0.0, min_impurity_split=None,\n",
       "                       min_samples_leaf=1, min_samples_split=2,\n",
       "                       min_weight_fraction_leaf=0.0, presort='deprecated',\n",
       "                       random_state=1552793295, splitter='best'),\n",
       " DecisionTreeRegressor(ccp_alpha=0.0, criterion='mse', max_depth=None,\n",
       "                       max_features=None, max_leaf_nodes=None,\n",
       "                       min_impurity_decrease=0.0, min_impurity_split=None,\n",
       "                       min_samples_leaf=1, min_samples_split=2,\n",
       "                       min_weight_fraction_leaf=0.0, presort='deprecated',\n",
       "                       random_state=2074798517, splitter='best')]"
      ]
     },
     "execution_count": 51,
     "metadata": {},
     "output_type": "execute_result"
    }
   ],
   "source": [
    "bag_model.estimators_"
   ]
  },
  {
   "cell_type": "code",
   "execution_count": 52,
   "metadata": {},
   "outputs": [
    {
     "data": {
      "text/plain": [
       "[array([  8, 147,  95, 157,   7,  71, 111, 174,  30, 134, 108,  48, 145,\n",
       "        146, 102, 184,  35, 170,  22,  15,  71, 108,  21,  35, 152, 140,\n",
       "        171,   7,  84, 178, 134, 149, 196, 188,  35,  70, 133, 114,  35,\n",
       "         92, 177,  31,  84,  56, 195,  99,  40,  60,  29, 156,  31, 139,\n",
       "         33,  32, 166,  97, 127,  98, 184, 106,  63, 114,   7,  61,  44,\n",
       "        178, 112,  81, 174,  80, 121, 115, 162,  61,  51, 139, 165,  31,\n",
       "         46,  13, 112, 196,  18,  29, 117,  56, 164,  94,  73, 169, 123,\n",
       "         42, 107,  56,  38,  20, 133, 137, 163,  29,  82,  41, 182,  46,\n",
       "        100,  41,  42, 128,  65,  62, 139,  21,  16, 155,  52,  36,  96,\n",
       "        120,  97,  35,  57, 176,  10, 120, 125,  56,  19,  75, 127, 191,\n",
       "        153, 190, 184, 138,  77,  10,  25, 130,  69,  40,  11,  33, 141,\n",
       "         98, 193,  52,  61,  23,  66, 163, 102, 149, 130, 166, 166, 126,\n",
       "         89,  34, 134,  82, 154, 162,   1,  62,   8, 167, 180,  42, 178,\n",
       "         22, 116,  23, 171, 135,  48,  23,  18,  11, 148,  38,  15, 189,\n",
       "         23, 189, 168,  85,  13, 143,  23, 171, 174,   9,  70, 174, 121,\n",
       "        101,  69]),\n",
       " array([175,  38,  31,  30,  70,  41,   9, 108, 177, 166, 138, 193, 145,\n",
       "         41,  82, 105, 170,  85,   2, 157, 176,  12, 182,  58, 113,  16,\n",
       "        125, 135,  41, 142,  34,  11, 193, 111, 141, 149,  73,  65, 159,\n",
       "        154,  90, 194,  46,  39,  92,  58,   5, 132, 142,   7,  35,  31,\n",
       "         80, 101,  91,  52,  33,  55,  19, 126, 128, 107,  19, 175,  42,\n",
       "         22, 123,  92,  75, 181, 124,  53, 152,  39,  14, 187, 103, 144,\n",
       "        116,  92,  49, 103,  44,  92,  22,  97,  79,  48, 184,  32, 121,\n",
       "        163, 118, 166, 102,  94,   2, 188, 159, 136,  89, 134, 103,  19,\n",
       "          6,  68,  95, 137, 150,  14,  18, 189,  89, 183,  94,  41,  51,\n",
       "         60,  77, 136,  45,  97,   3,  53,  68, 119,  10, 142, 196, 145,\n",
       "        190,  52, 138, 143,  45, 133,   8,  10, 147, 156,  53,  51, 102,\n",
       "         62,  62,  30,  56,  11,  77, 123,  17,  12, 166,  30,  58,  82,\n",
       "        101, 177,  38, 133, 150,   4, 145,  91, 172, 100, 127,  41, 180,\n",
       "        164,   8, 135,  92, 174, 146,   0, 193,  31,  76,  36,  38,  35,\n",
       "         76, 168, 181,  84, 134,  22, 143, 142,  49, 112,  72,  25, 183,\n",
       "         26,  21]),\n",
       " array([ 53,  91, 103,  47,  94, 150,  22,  55,  17, 159, 191, 104, 169,\n",
       "        168, 103,  76,  36,   3,  17,  94, 118, 151,  54,  97,  71,  43,\n",
       "        179,  93, 195, 133, 153, 168,  95,  55, 128,  47, 129,  30, 172,\n",
       "         14,  86, 181, 125, 119, 174, 118, 166,  31, 140,  56,  64,  65,\n",
       "         37, 143,  30, 174, 157,  41,   6,  83,  91, 169,   8,  49,  50,\n",
       "         16, 182, 189,  33,  46,   2,  59,  89, 116,  68, 194,  13,  92,\n",
       "         32, 158, 131, 103, 174, 127,  30,  82, 101,  17,   1,   1,  61,\n",
       "        195,  94, 133, 114, 188, 194,   4,  40, 196, 195,  54, 194, 170,\n",
       "         79, 128,  58, 178, 157,  63,  21,  15, 147,  59, 150,  28, 149,\n",
       "        171, 166,  82,  10,  22,   8,  49,  29,  13,  45,  18, 172, 161,\n",
       "        170,  38,  32, 180, 162, 106,  28, 142, 121, 185, 189,  86, 169,\n",
       "         17,  69,  85,  88, 126, 136,  96,  88, 128,  89,  87,  35,  58,\n",
       "        162, 190,  14, 165,  74,  17, 114, 142,  54,  29,  84, 115,  59,\n",
       "         36, 114, 136,  17, 128,  99, 150, 150, 112,  97, 150,  63, 103,\n",
       "        138,  64, 163, 109,  49, 196, 178,   4,  80, 163,  90,   5,  94,\n",
       "        164, 122]),\n",
       " array([185, 146, 190,  45,  66,  71,  48,  60, 158, 186,  13,  50,  25,\n",
       "         34, 171, 171,  83, 182, 182,  95,   1, 195, 184,  90,  19,   2,\n",
       "         35, 150, 139, 148,  66,  23,  46, 124, 127,  11, 174,  43,  60,\n",
       "         25,  20,  50, 193, 156,  86, 188,  49,  93, 136,  83,  65, 155,\n",
       "         18,  26,  45,  22, 174,  51,   5,  55, 150,  59, 183, 146,  67,\n",
       "        196, 124, 152,  93, 159,  77,  24,  49,  57, 131, 183,   2,  25,\n",
       "        163,  53, 146, 131, 169,  94, 160,   3, 176,  90,   0, 126, 131,\n",
       "        176, 165,  27,  88, 190,  78,  37,  47,  20,  79,  81, 144, 187,\n",
       "        160,  92,  85,  30,  95, 108, 117,   9,  64, 193,  75,  67,   8,\n",
       "         95, 152,  66,  79,  86,  22,  57,  93,  17, 175,  93,  60,  49,\n",
       "         58,  77,  35,  38, 114, 147,  10, 163,  62, 163,  99, 196,   6,\n",
       "        169,  58, 158,   0,  61,  13,  43, 196,  60, 195,  40,  48, 174,\n",
       "         12, 102,  50, 128, 126, 152, 104,  57,  65,  13,   9,   8,  86,\n",
       "        176, 194,  97,  90, 167, 178,  15, 169,  54, 106, 123,  73,  30,\n",
       "        104,  22,  14,   2, 104, 139,  25, 102, 163,  75, 183,  42,  94,\n",
       "        168,  21]),\n",
       " array([ 60,  57,   9, 105,  86, 172,  81,  52, 136, 127, 187, 109,  95,\n",
       "         76,  43,  96, 125,  30,  45, 151,  57, 159,  34, 123, 139,  34,\n",
       "         84,  27, 108,  58,  70,  43,  54, 195, 142,  45, 124,  87,  37,\n",
       "         48,  68, 175,  62,  35, 181, 178, 108,  57, 121, 103,  45,   1,\n",
       "         94,  23, 164,  93, 126,  88,  12,  72,  54,  86,  56, 148,  26,\n",
       "        109, 127, 148, 148,  24,  43,   1, 143, 124, 171, 132, 179, 168,\n",
       "         89,  44,  99,  82,   0, 109, 114,  78, 158, 142, 143, 113, 167,\n",
       "        178, 168, 176,  74,  59,  35, 144,  54, 187, 186, 172,  65,  83,\n",
       "         25,  60,  39, 127,  79,  43, 128, 104,  31, 159, 168,   4,  24,\n",
       "         25,  21, 138,  36,  28, 179,   9, 147, 151, 150,   4,  86, 179,\n",
       "          7,  66, 196, 133, 115,   4, 188, 166, 174, 151, 174,  34,  19,\n",
       "         24,   1, 175, 109, 130,  23,  86, 186, 112,  29, 174,  48, 111,\n",
       "         79,  39, 185, 109, 153, 159, 174,  10, 117,  65,  49,  68,  61,\n",
       "         20,  54, 100,  71,  12,  64,  37,  68, 171, 132,  68,  65,  54,\n",
       "         76, 152, 193,  97,  81,  28,  98,  61, 188, 160, 110,  42,  61,\n",
       "        150, 109]),\n",
       " array([153, 132, 176,  15, 148,  95, 192, 137, 169, 147,  54,  15,  61,\n",
       "         48, 105,  39, 185, 144,  56, 112, 124,  94,  59,   4, 133,  63,\n",
       "        139, 171, 167,  30, 152, 169,  11,  85, 130, 191,  95, 135,  67,\n",
       "        178, 124, 137, 160, 194,  65,  47,   8,  99, 174, 164, 146,  76,\n",
       "        162, 194, 185, 116, 116, 187,  93, 159,  85,   9,  53,  65, 172,\n",
       "        150, 179, 120,  96,  33,  67,  78, 162, 179,  90,  33, 150,  13,\n",
       "         77, 103, 146, 142, 167,  21,  89, 191,  79,  62, 188,  28, 148,\n",
       "        142, 152, 187,  28,  71, 115,  18, 172, 193, 131,   0,  41,  22,\n",
       "         13,  97, 165,  54,  38,  80, 174,  84,  91,  34, 103, 128, 141,\n",
       "        159,  24, 179,   8,  59, 153, 152, 141,  45, 129, 182, 134, 105,\n",
       "         62,  22,  35, 144,  93, 147,   8, 128,  22,  48, 108,  21, 152,\n",
       "         34,  72,  45, 139, 129, 104,  56,  36, 185, 175,  76, 170, 145,\n",
       "         41, 129, 118, 151, 121, 194,  60,  70, 158,  68, 187, 174, 188,\n",
       "         31, 184,  30,  10, 165, 122,  94, 144, 119, 157, 165, 105,  26,\n",
       "         10,  37,   3,  66, 126, 170,  71,  80,   5, 181, 137,  99,  36,\n",
       "         35, 151]),\n",
       " array([133,  64,  57, 131,  97, 170,  64, 196, 122, 175, 191, 163,  38,\n",
       "        145,  59, 123,  69,  58,  53, 171, 148,   5, 110, 192,  58,  55,\n",
       "         90, 137,   3,  97,  74,  29,   1, 172, 115, 165,  62,  31,  23,\n",
       "         86,  69,  49,  21, 185,  52,  13, 193,  73,  31, 117, 162, 125,\n",
       "         69,  63,  23, 187,  90,  30, 163, 115,   9,  56,  74,  31, 121,\n",
       "         16,  64, 163,   4, 110,  21, 115,  52, 141, 178, 111,  21, 112,\n",
       "        132, 120,  73,  77, 120, 119,  22,  22,   5, 191,  82,   6, 113,\n",
       "        183, 143, 175, 192, 129, 104,  49,   2, 125, 104,  54, 177, 142,\n",
       "        133, 126,  68,  18, 152, 180,  10, 186,  88, 130, 162,  32, 139,\n",
       "        108, 194, 123,  65, 187,  71,  82, 174,  87, 129, 152, 140, 186,\n",
       "        172,  10,  30,  96, 129,  24,  72,   9, 188, 118,  10,  26,  46,\n",
       "        167,   7,  89,  59, 174, 138,   6, 138,  57,  85, 138,  59, 103,\n",
       "         64, 173, 106, 166,   7,   5, 100, 177,  51,  76, 194,  71,  23,\n",
       "        179, 166,  80,  57,   1, 119, 102,  36, 147,  72, 153, 110, 121,\n",
       "         14,  63,  74,  15,  68, 155,  62, 192, 196,  47,  73, 153,  74,\n",
       "        128, 171]),\n",
       " array([158, 114, 114,  75, 158, 160,  54, 127, 120, 160, 182, 151, 113,\n",
       "         16,  61,  52,  24, 166,  60, 157, 101,  81, 157, 125, 127, 121,\n",
       "        140,  84, 177, 156, 166, 170, 175, 117,  99,  68,  95,   4,  89,\n",
       "          3,  88, 115,   1,  68, 105, 160,  91,  79,  36, 173,  43,  95,\n",
       "         68,  93, 107,  49,  66,   3,  19, 166, 181, 180, 121, 192,  38,\n",
       "         76,  62, 164, 152,  33, 111,  80,  11,  84, 130, 111,  46,  63,\n",
       "        157,  89,  80, 177,  84,  33,  91, 155,  49, 171,  19,  32,  23,\n",
       "         90,  17,  73,  43, 121,  75,  84,  21, 155,  68, 102, 156, 181,\n",
       "         85, 103,  49, 153,  67, 172, 120,  11,  32, 179, 183,  56, 112,\n",
       "         19,  13, 135,   9,  15, 111,  54, 150,  64, 176,  41, 125, 163,\n",
       "        151, 188,  16, 133, 119, 121, 142, 188,  51, 169, 116, 105,  18,\n",
       "         39,  42,  99, 124, 136, 164, 162, 184, 180, 104, 133,   8, 171,\n",
       "         74,  43,  80,  35,  52, 173, 107,  22,  75, 171, 165, 117, 137,\n",
       "         77,  12, 177,  82, 107,  89,  13,   9,  92, 194, 180, 127,  86,\n",
       "        188, 105,  23,  49, 133,  58, 149,  75,  75,  52,  51, 156, 110,\n",
       "        137,  41]),\n",
       " array([118,  65,  79, 144, 147,  98, 170,  31, 115, 106,  64,  23, 178,\n",
       "        119, 183,  22,  22, 158,   5,  62,  13, 179, 147,  69,  20,  53,\n",
       "         69,  76,  79, 116,  13,   7, 144, 156, 168, 130, 173,   2, 107,\n",
       "        171,  45,  63,  90,  94, 106, 142,  75,  75, 116,  79, 176, 178,\n",
       "         62, 165,  23,  84,  56,  42,  53, 163,  53,  94, 145,  33,  79,\n",
       "         76,   8, 140, 186, 142, 192,  34,  80,  55, 183, 168,  39,  56,\n",
       "         48,  53, 103, 154,  90, 108, 189,  60, 148,   5, 126, 144, 185,\n",
       "         27,  86, 137,  25,  22,  69, 109,  16, 105, 141,  98,  35, 171,\n",
       "        101, 192,  30,  36, 161,  99, 103,  28,  42, 140, 174,  80, 164,\n",
       "         88, 136, 158,  44, 171,  82,  24,  35, 165, 171, 127, 172,  13,\n",
       "         86,  65, 176,  45, 127, 172,  90,  33,  83,  54,  73,  73, 167,\n",
       "         53, 151, 103,  34,  23,  35,  70, 137,  66, 128,   3,  98, 144,\n",
       "        175,  92, 149, 143,  84, 138,  51,   2, 125,  76,   7, 149,  73,\n",
       "         71,  20, 191,  22, 135,  28, 149,  10, 156,  42,  60, 116, 157,\n",
       "        112,  76, 115,  87,  86,   2, 152, 149, 159, 104,  69, 166, 148,\n",
       "        116,  32]),\n",
       " array([ 79, 190, 191,  82,  94, 193, 116, 144, 103,  20, 148,  31,  50,\n",
       "        156,  50,  18, 108, 150,  75,  42,  53, 152, 151, 158, 137, 133,\n",
       "        129,  50, 151, 167,  55,  51, 166, 112,  38,  15,  43,  48, 106,\n",
       "         17,   2, 189, 132, 160, 186,  55,  92,  90, 184, 179,  47, 173,\n",
       "         33,  11,  47, 115,  75,  42, 105,  50, 165, 120,  75,  77,  62,\n",
       "         72, 187, 189,  35, 187, 177,   3, 188, 163, 120, 180, 126, 162,\n",
       "         73,  76,  35,  30, 176,   8,  87,  48, 121, 181,  65,  60, 178,\n",
       "        129,  87,  65,  69, 144, 196, 162,  42,   4, 142,  57,  78,  68,\n",
       "        195,  75,  51, 115,  58,   5, 107,  54,  65,  12, 192,  89, 149,\n",
       "         40,   3,  92, 177,  94,  27, 194, 165,  40,  99, 189,  29,  76,\n",
       "         14,  19,  85, 117,  90,  51, 112, 157,  47, 170, 157,  96,  96,\n",
       "         81,  40, 109,  73,  47, 122,  61,  62,  74, 145,   7,  62,  94,\n",
       "        115,   3,  73, 165, 149,  15, 176, 131,  87, 160, 161, 160, 155,\n",
       "        117,  36, 147, 163,  41,  87,  70, 164,  47, 108, 145,   5,   4,\n",
       "         68,   9,  28, 181,  85,  82,  50,  11, 146, 190, 155,  48, 159,\n",
       "         74, 182])]"
      ]
     },
     "execution_count": 52,
     "metadata": {},
     "output_type": "execute_result"
    }
   ],
   "source": [
    "bag_model.estimators_samples_"
   ]
  },
  {
   "cell_type": "code",
   "execution_count": 53,
   "metadata": {},
   "outputs": [
    {
     "data": {
      "text/plain": [
       "[array([ 8,  4, 15, 16, 15,  3,  9,  3,  8,  0,  0,  8, 10, 15, 10, 16, 11,\n",
       "        17,  8]),\n",
       " array([16,  8, 14, 13,  2,  8, 18,  4, 15,  6,  1,  1, 15, 15,  0, 17, 12,\n",
       "         2, 18]),\n",
       " array([ 0,  0, 10, 10,  7,  2,  6, 16, 12, 13,  4, 18, 12, 17, 18, 18,  0,\n",
       "        10,  7]),\n",
       " array([11,  3,  3,  4, 14, 13, 13,  2,  4, 11,  4,  1,  7, 12, 16, 10,  9,\n",
       "        15, 15]),\n",
       " array([13,  2,  3, 15,  7,  0,  1, 18, 14, 12, 17, 16, 11,  5,  2,  3,  7,\n",
       "         1, 11]),\n",
       " array([11, 14,  8,  4,  8, 13, 12,  6,  6, 18,  0, 11, 12,  4,  6,  2,  8,\n",
       "         6,  4]),\n",
       " array([14,  5,  3, 17,  2,  4,  3,  1,  9, 12,  2,  5,  6,  4,  7, 11, 18,\n",
       "        10,  5]),\n",
       " array([10,  2,  6, 17,  5,  5,  5, 11, 17, 13, 15, 16, 13,  8,  9,  3,  5,\n",
       "         8, 18]),\n",
       " array([ 2, 15,  9, 10, 15,  2, 16,  1, 10, 17,  5,  7, 15, 10, 10,  8, 16,\n",
       "         9,  1]),\n",
       " array([14, 16, 10, 11,  8,  3,  6,  4,  9, 13, 13,  0,  9, 12, 16,  7,  8,\n",
       "        10,  3])]"
      ]
     },
     "execution_count": 53,
     "metadata": {},
     "output_type": "execute_result"
    }
   ],
   "source": [
    "bag_model.estimators_features_"
   ]
  },
  {
   "cell_type": "code",
   "execution_count": 54,
   "metadata": {},
   "outputs": [
    {
     "data": {
      "text/plain": [
       "DecisionTreeRegressor(ccp_alpha=0.0, criterion='mse', max_depth=None,\n",
       "                      max_features=None, max_leaf_nodes=None,\n",
       "                      min_impurity_decrease=0.0, min_impurity_split=None,\n",
       "                      min_samples_leaf=1, min_samples_split=2,\n",
       "                      min_weight_fraction_leaf=0.0, presort='deprecated',\n",
       "                      random_state=1126452366, splitter='best')"
      ]
     },
     "execution_count": 54,
     "metadata": {},
     "output_type": "execute_result"
    }
   ],
   "source": [
    "bag_model.estimators_[1]"
   ]
  },
  {
   "cell_type": "markdown",
   "metadata": {},
   "source": [
    "### Predict"
   ]
  },
  {
   "cell_type": "code",
   "execution_count": 55,
   "metadata": {},
   "outputs": [],
   "source": [
    "y_pred = bag_model.predict(X_test)"
   ]
  },
  {
   "cell_type": "code",
   "execution_count": 56,
   "metadata": {},
   "outputs": [
    {
     "data": {
      "text/plain": [
       "331.89452843908657"
      ]
     },
     "execution_count": 56,
     "metadata": {},
     "output_type": "execute_result"
    }
   ],
   "source": [
    "np.sqrt(mean_squared_error(y_test, y_pred))"
   ]
  },
  {
   "cell_type": "code",
   "execution_count": 57,
   "metadata": {},
   "outputs": [],
   "source": [
    "second_y_pred = bag_model.estimators_[1].fit(X_train, y_train).predict(X_test)"
   ]
  },
  {
   "cell_type": "code",
   "execution_count": 58,
   "metadata": {},
   "outputs": [
    {
     "data": {
      "text/plain": [
       "467.7763985633942"
      ]
     },
     "execution_count": 58,
     "metadata": {},
     "output_type": "execute_result"
    }
   ],
   "source": [
    "np.sqrt(mean_squared_error(y_test, second_y_pred))"
   ]
  },
  {
   "cell_type": "markdown",
   "metadata": {},
   "source": [
    "### Model Tuning"
   ]
  },
  {
   "cell_type": "code",
   "execution_count": 59,
   "metadata": {},
   "outputs": [
    {
     "data": {
      "text/plain": [
       "BaggingRegressor(base_estimator=None, bootstrap=True, bootstrap_features=True,\n",
       "                 max_features=1.0, max_samples=1.0, n_estimators=10,\n",
       "                 n_jobs=None, oob_score=False, random_state=None, verbose=0,\n",
       "                 warm_start=False)"
      ]
     },
     "execution_count": 59,
     "metadata": {},
     "output_type": "execute_result"
    }
   ],
   "source": [
    "bag_model = BaggingRegressor(bootstrap_features = True)\n",
    "bag_model.fit(X_train, y_train)"
   ]
  },
  {
   "cell_type": "code",
   "execution_count": 60,
   "metadata": {},
   "outputs": [],
   "source": [
    "bag_params = {\"n_estimators\": range(2,20)}"
   ]
  },
  {
   "cell_type": "code",
   "execution_count": 61,
   "metadata": {},
   "outputs": [],
   "source": [
    "bag_cv_model = GridSearchCV(bag_model, bag_params, cv = 10).fit(X_train, y_train)"
   ]
  },
  {
   "cell_type": "code",
   "execution_count": 62,
   "metadata": {},
   "outputs": [
    {
     "data": {
      "text/plain": [
       "{'n_estimators': 14}"
      ]
     },
     "execution_count": 62,
     "metadata": {},
     "output_type": "execute_result"
    }
   ],
   "source": [
    "bag_cv_model.best_params_"
   ]
  },
  {
   "cell_type": "code",
   "execution_count": 67,
   "metadata": {},
   "outputs": [],
   "source": [
    "bag_tuned = BaggingRegressor(n_estimators = 14, random_state = 45)"
   ]
  },
  {
   "cell_type": "code",
   "execution_count": 68,
   "metadata": {},
   "outputs": [
    {
     "data": {
      "text/plain": [
       "BaggingRegressor(base_estimator=None, bootstrap=True, bootstrap_features=False,\n",
       "                 max_features=1.0, max_samples=1.0, n_estimators=14,\n",
       "                 n_jobs=None, oob_score=False, random_state=45, verbose=0,\n",
       "                 warm_start=False)"
      ]
     },
     "execution_count": 68,
     "metadata": {},
     "output_type": "execute_result"
    }
   ],
   "source": [
    "bag_tuned.fit(X_train, y_train)"
   ]
  },
  {
   "cell_type": "code",
   "execution_count": 69,
   "metadata": {},
   "outputs": [],
   "source": [
    "y_pred = bag_tuned.predict(X_test)"
   ]
  },
  {
   "cell_type": "code",
   "execution_count": 70,
   "metadata": {},
   "outputs": [
    {
     "data": {
      "text/plain": [
       "346.97035613871606"
      ]
     },
     "execution_count": 70,
     "metadata": {},
     "output_type": "execute_result"
    }
   ],
   "source": [
    "np.sqrt(mean_squared_error(y_test, y_pred))"
   ]
  },
  {
   "cell_type": "code",
   "execution_count": null,
   "metadata": {},
   "outputs": [],
   "source": []
  }
 ],
 "metadata": {
  "kernelspec": {
   "display_name": "Python 3",
   "language": "python",
   "name": "python3"
  },
  "language_info": {
   "codemirror_mode": {
    "name": "ipython",
    "version": 3
   },
   "file_extension": ".py",
   "mimetype": "text/x-python",
   "name": "python",
   "nbconvert_exporter": "python",
   "pygments_lexer": "ipython3",
   "version": "3.7.6"
  }
 },
 "nbformat": 4,
 "nbformat_minor": 4
}
